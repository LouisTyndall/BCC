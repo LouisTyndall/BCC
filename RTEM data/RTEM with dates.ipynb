{
 "cells": [
  {
   "cell_type": "code",
   "execution_count": null,
   "id": "61bcb638",
   "metadata": {
    "scrolled": true
   },
   "outputs": [],
   "source": [
    "import datetime\n",
    "import matplotlib.pyplot as plt\n",
    "import pandas as pd\n",
    "import requests\n",
    "\n",
    "key='HDMWDFKB8IB64BFQ3351251166261'\n",
    "\n",
    "start=input('Enter date (YYYY-MM-DD)')\n",
    "datatype=input('Enter dataset (Total, AverageSpeed, Car, HGV, LGV, Bus)')\n",
    "site=input('Enter site code')\n",
    "numday=input('Number of days to search for')\n",
    "start1 = datetime.datetime.strptime(start, '%Y-%m-%d')\n",
    "end = start1 + datetime.timedelta(days=int(numday))\n",
    "\n",
    "url='http://bcc.opendata.onl/rtem_csv.json?Earliest='+str(start)+'&Latest='+str(end)+'&scn='+site+'&ApiKey='+key \n",
    "result=requests.get(url).json()\n",
    "df=pd.DataFrame(result)\n",
    "\n",
    "a = [[datetime.datetime.strptime(result['RTEM_CSVs']['kids'][n]['kids']['Date'],\"%Y-%m-%d %H:%M:%S\"),int(result['RTEM_CSVs']['kids'][n]['kids'][datatype])] for n in result['RTEM_CSVs']['kids']]\n",
    "Car=sum(int(result['RTEM_CSVs']['kids'][n]['kids']['Car']) for n in result['RTEM_CSVs']['kids'])\n",
    "Bus=sum(int(result['RTEM_CSVs']['kids'][n]['kids']['Bus']) for n in result['RTEM_CSVs']['kids'])\n",
    "HGV=sum(int(result['RTEM_CSVs']['kids'][n]['kids']['HGV']) for n in result['RTEM_CSVs']['kids'])\n",
    "LGV=sum(int(result['RTEM_CSVs']['kids'][n]['kids']['LGV']) for n in result['RTEM_CSVs']['kids'])\n",
    "Motorcycle=sum(int(result['RTEM_CSVs']['kids'][n]['kids']['Motorbike']) for n in result['RTEM_CSVs']['kids'])\n",
    "\n",
    "print('The total car count is',Car)\n",
    "print('The total bus count is',Bus)\n",
    "print('The total car count is',HGV)\n",
    "print('The total bus count is',LGV)\n",
    "print('The total car count is',Motorcycle)\n",
    "\n",
    "plt.plot([n[0] for n in a],[m[1] for m in a],marker='o',linestyle='None')\n",
    "plt.gca().set_ylim(0,70)\n",
    "fig=plt.gcf()\n",
    "fig.set_size_inches(18.5,10.5)\n",
    "plt.show"
   ]
  },
  {
   "cell_type": "code",
   "execution_count": null,
   "id": "057e30e2",
   "metadata": {},
   "outputs": [],
   "source": []
  }
 ],
 "metadata": {
  "kernelspec": {
   "display_name": "Python 3 (ipykernel)",
   "language": "python",
   "name": "python3"
  },
  "language_info": {
   "codemirror_mode": {
    "name": "ipython",
    "version": 3
   },
   "file_extension": ".py",
   "mimetype": "text/x-python",
   "name": "python",
   "nbconvert_exporter": "python",
   "pygments_lexer": "ipython3",
   "version": "3.8.3"
  }
 },
 "nbformat": 4,
 "nbformat_minor": 5
}
